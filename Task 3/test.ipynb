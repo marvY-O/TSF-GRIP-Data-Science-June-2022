{
 "cells": [
  {
   "cell_type": "code",
   "execution_count": 2,
   "metadata": {},
   "outputs": [],
   "source": [
    "from sklearn.datasets import load_iris\n",
    "iris = load_iris()\n",
    "from sklearn.ensemble import RandomForestClassifier\n",
    "model = RandomForestClassifier(n_estimators=10)\n",
    "# Train\n",
    "model.fit(iris.data, iris.target)\n",
    "# Extract single tree\n",
    "estimator = model.estimators_[5]"
   ]
  },
  {
   "cell_type": "code",
   "execution_count": 3,
   "metadata": {},
   "outputs": [
    {
     "ename": "NameError",
     "evalue": "name 'estimator_limited' is not defined",
     "output_type": "error",
     "traceback": [
      "\u001b[0;31m---------------------------------------------------------------------------\u001b[0m",
      "\u001b[0;31mNameError\u001b[0m                                 Traceback (most recent call last)",
      "\u001b[1;32m/home/marvy/TSF-GRIP-Data-Science-June-2022/Task 3/test.ipynb Cell 2'\u001b[0m in \u001b[0;36m<cell line: 3>\u001b[0;34m()\u001b[0m\n\u001b[1;32m      <a href='vscode-notebook-cell:/home/marvy/TSF-GRIP-Data-Science-June-2022/Task%203/test.ipynb#ch0000001?line=0'>1</a>\u001b[0m \u001b[39mfrom\u001b[39;00m \u001b[39msklearn\u001b[39;00m\u001b[39m.\u001b[39;00m\u001b[39mtree\u001b[39;00m \u001b[39mimport\u001b[39;00m export_graphviz\n\u001b[1;32m      <a href='vscode-notebook-cell:/home/marvy/TSF-GRIP-Data-Science-June-2022/Task%203/test.ipynb#ch0000001?line=1'>2</a>\u001b[0m \u001b[39m# Export as dot file\u001b[39;00m\n\u001b[0;32m----> <a href='vscode-notebook-cell:/home/marvy/TSF-GRIP-Data-Science-June-2022/Task%203/test.ipynb#ch0000001?line=2'>3</a>\u001b[0m export_graphviz(estimator_limited, \n\u001b[1;32m      <a href='vscode-notebook-cell:/home/marvy/TSF-GRIP-Data-Science-June-2022/Task%203/test.ipynb#ch0000001?line=3'>4</a>\u001b[0m                 out_file\u001b[39m=\u001b[39m\u001b[39m'\u001b[39m\u001b[39mtree.dot\u001b[39m\u001b[39m'\u001b[39m, \n\u001b[1;32m      <a href='vscode-notebook-cell:/home/marvy/TSF-GRIP-Data-Science-June-2022/Task%203/test.ipynb#ch0000001?line=4'>5</a>\u001b[0m                 feature_names \u001b[39m=\u001b[39m iris\u001b[39m.\u001b[39mfeature_names,\n\u001b[1;32m      <a href='vscode-notebook-cell:/home/marvy/TSF-GRIP-Data-Science-June-2022/Task%203/test.ipynb#ch0000001?line=5'>6</a>\u001b[0m                 class_names \u001b[39m=\u001b[39m iris\u001b[39m.\u001b[39mtarget_names,\n\u001b[1;32m      <a href='vscode-notebook-cell:/home/marvy/TSF-GRIP-Data-Science-June-2022/Task%203/test.ipynb#ch0000001?line=6'>7</a>\u001b[0m                 rounded \u001b[39m=\u001b[39m \u001b[39mTrue\u001b[39;00m, proportion \u001b[39m=\u001b[39m \u001b[39mFalse\u001b[39;00m, \n\u001b[1;32m      <a href='vscode-notebook-cell:/home/marvy/TSF-GRIP-Data-Science-June-2022/Task%203/test.ipynb#ch0000001?line=7'>8</a>\u001b[0m                 precision \u001b[39m=\u001b[39m \u001b[39m2\u001b[39m, filled \u001b[39m=\u001b[39m \u001b[39mTrue\u001b[39;00m)\n",
      "\u001b[0;31mNameError\u001b[0m: name 'estimator_limited' is not defined"
     ]
    }
   ],
   "source": [
    "from sklearn.tree import export_graphviz\n",
    "# Export as dot file\n",
    "export_graphviz(estimator, \n",
    "                out_file='tree.dot', \n",
    "                feature_names = iris.feature_names,\n",
    "                class_names = iris.target_names,\n",
    "                rounded = True, proportion = False, \n",
    "                precision = 2, filled = True)"
   ]
  }
 ],
 "metadata": {
  "interpreter": {
   "hash": "916dbcbb3f70747c44a77c7bcd40155683ae19c65e1c03b4aa3499c5328201f1"
  },
  "kernelspec": {
   "display_name": "Python 3.8.10 64-bit",
   "language": "python",
   "name": "python3"
  },
  "language_info": {
   "codemirror_mode": {
    "name": "ipython",
    "version": 3
   },
   "file_extension": ".py",
   "mimetype": "text/x-python",
   "name": "python",
   "nbconvert_exporter": "python",
   "pygments_lexer": "ipython3",
   "version": "3.8.10"
  },
  "orig_nbformat": 4
 },
 "nbformat": 4,
 "nbformat_minor": 2
}
